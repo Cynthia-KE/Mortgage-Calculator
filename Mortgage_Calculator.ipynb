{
 "cells": [
  {
   "cell_type": "code",
   "execution_count": 1,
   "id": "fd5aac68-26b8-4ec9-9da9-d13add1ddea8",
   "metadata": {},
   "outputs": [],
   "source": [
    "#Principal(p)=GHS 1,000,000\n",
    "#Interest rate=7.5% pa\n",
    "#Period=30 years"
   ]
  },
  {
   "cell_type": "code",
   "execution_count": 2,
   "id": "83cd3b71-01f1-4ea3-9e11-7bdce7e1ede5",
   "metadata": {},
   "outputs": [
    {
     "name": "stdout",
     "output_type": "stream",
     "text": [
      "1,000,000\n"
     ]
    }
   ],
   "source": [
    "p=1000000\n",
    "f_p=f'{p:,}'\n",
    "print(f_p)"
   ]
  },
  {
   "cell_type": "code",
   "execution_count": 3,
   "id": "30d376c5-fcbb-41c7-a770-4f212f50ef98",
   "metadata": {},
   "outputs": [
    {
     "name": "stdout",
     "output_type": "stream",
     "text": [
      "0.0062499999999999995\n"
     ]
    }
   ],
   "source": [
    "#Step 1: Convert annual interest rate to monthly\n",
    "\n",
    "rate_yearly=7.5/100\n",
    "rate_monthly=rate_yearly/12\n",
    "print(rate_monthly)"
   ]
  },
  {
   "cell_type": "code",
   "execution_count": 4,
   "id": "e19250bc-3712-4903-adcf-d9a341c08671",
   "metadata": {},
   "outputs": [
    {
     "name": "stdout",
     "output_type": "stream",
     "text": [
      "360\n"
     ]
    }
   ],
   "source": [
    "#Step 2: Convert period from years to number of months\n",
    "\n",
    "period_years=30\n",
    "period_months=period_years*12\n",
    "print(period_months)"
   ]
  },
  {
   "cell_type": "code",
   "execution_count": 5,
   "id": "ac0f9ce4-d5a2-4795-881d-5176ce4f8c4e",
   "metadata": {},
   "outputs": [
    {
     "name": "stdout",
     "output_type": "stream",
     "text": [
      "6992.145085527764\n"
     ]
    }
   ],
   "source": [
    "#Step 3: Get the periodic monthly payments (PMTs)\n",
    "\n",
    "#PMT=p*((i[1+i]^n)/({[1+i]^n}-1))\n",
    "#p=1,000,000 Ghanaian Cedis\n",
    "#i=rate_monthly (0.006)\n",
    "#n=period_months (360)\n",
    "\n",
    "#PMT=1,000,000*((0.006[1.006]^360)/({[1.006]^360}-1))\n",
    "\n",
    "pmt=p*(((rate_monthly)*(1+rate_monthly)**period_months)/(((1+rate_monthly)**period_months)-1))\n",
    "print(pmt)"
   ]
  },
  {
   "cell_type": "code",
   "execution_count": 6,
   "id": "438f2635-1fd1-4e07-accb-80296d2c40d5",
   "metadata": {},
   "outputs": [
    {
     "name": "stdout",
     "output_type": "stream",
     "text": [
      "2,517,172\n"
     ]
    }
   ],
   "source": [
    "#Step 4: Get the total that will be paid by the end of the loan period (30 years)\n",
    "\n",
    "total_payment=int(pmt*period_months)\n",
    "f_total_payment=f'{total_payment:,}'\n",
    "print(f_total_payment)"
   ]
  },
  {
   "cell_type": "code",
   "execution_count": 7,
   "id": "50b41722-38ee-4570-b750-70e78da7cb76",
   "metadata": {},
   "outputs": [
    {
     "name": "stdout",
     "output_type": "stream",
     "text": [
      "1,517,172\n"
     ]
    }
   ],
   "source": [
    "#Step 5: Get the total interest that will be paid to the bank after 30 years\n",
    "\n",
    "total_interest=int((total_payment)-(p))\n",
    "f_total_interest=f'{total_interest:,}'\n",
    "print(f_total_interest)"
   ]
  },
  {
   "cell_type": "code",
   "execution_count": 9,
   "id": "dc5d04e0-0508-4b82-9cb0-b29300b5587f",
   "metadata": {},
   "outputs": [
    {
     "name": "stdout",
     "output_type": "stream",
     "text": [
      "\n",
      "    After 30 years, Kelly, the client, will pay back a total of GHS 2,517,172 from the GHS 1,000,000 that has been borrowed.\n",
      "    Total interest to be paid by the client will be GHS 1,517,172\n",
      "\n"
     ]
    }
   ],
   "source": [
    "#Step 6: Print output \n",
    "\n",
    "print(f'''\n",
    "    After {period_years} years, Kelly, the client, will pay back a total of GHS {f_total_payment} from the GHS {f_p} that has been borrowed.\n",
    "    Total interest to be paid by the client will be GHS {f_total_interest}\n",
    "''')\n"
   ]
  },
  {
   "cell_type": "code",
   "execution_count": null,
   "id": "6ef2005a-6400-4cd0-a949-1bb8d7348c7b",
   "metadata": {},
   "outputs": [],
   "source": []
  }
 ],
 "metadata": {
  "kernelspec": {
   "display_name": "Python 3 (ipykernel)",
   "language": "python",
   "name": "python3"
  },
  "language_info": {
   "codemirror_mode": {
    "name": "ipython",
    "version": 3
   },
   "file_extension": ".py",
   "mimetype": "text/x-python",
   "name": "python",
   "nbconvert_exporter": "python",
   "pygments_lexer": "ipython3",
   "version": "3.11.7"
  }
 },
 "nbformat": 4,
 "nbformat_minor": 5
}
